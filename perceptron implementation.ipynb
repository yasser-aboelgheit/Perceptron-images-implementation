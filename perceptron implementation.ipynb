{
 "cells": [
  {
   "cell_type": "code",
   "execution_count": 3,
   "metadata": {},
   "outputs": [],
   "source": [
    "from PIL import * \n",
    "from random import *\n",
    "from scipy import misc\n",
    "from os import listdir\n",
    "import string as str\n",
    "import matplotlib.pyplot as plt\n",
    "import numpy as np"
   ]
  },
  {
   "cell_type": "code",
   "execution_count": 5,
   "metadata": {
    "collapsed": true
   },
   "outputs": [],
   "source": [
    "Dist=\"D:\\\\NU\\\\fall 2017\\\\CIT machine learning\\\\Assignment 1 Dataset\\\\\"\n",
    "trainFiles = [f for f in listdir(Dist+\"Train\\\\\")] #names of train files\n",
    "testFiles = [f for f in listdir(Dist+\"Test\\\\\")]#names of test files"
   ]
  },
  {
   "cell_type": "code",
   "execution_count": 6,
   "metadata": {
    "collapsed": true
   },
   "outputs": [],
   "source": [
    "def classifierr():\n",
    "    classifiers=[]\n",
    "    for alpha in range (0,26):\n",
    "        weight = np.array([1] + [0]*144)\n",
    "        t=[]\n",
    "        for i in range(0,182):\n",
    "            t.append(-1)    \n",
    "        for i in range (alpha*7,(alpha+1)*7):\n",
    "            t[i]=1\n",
    "        i=0\n",
    "        while i < len(trainFiles):\n",
    "            Xi = misc.imread(Dist+\"Train\\\\\" + trainFiles[i])\n",
    "            Xi=Xi.reshape(144,)\n",
    "            Xi=np.append(Xi,1)\n",
    "            sca = np.dot(np.transpose(weight),((Xi)*t[i]))\n",
    "            if (sca <0 ):\n",
    "                weight = np.add(weight , 0.05 * Xi * t[i])\n",
    "                i=0\n",
    "            else :\n",
    "                i=i+1\n",
    "        classifiers.append(weight)\n",
    "    return classifiers\n",
    "classifiers=classifierr()\n"
   ]
  },
  {
   "cell_type": "code",
   "execution_count": 7,
   "metadata": {
    "scrolled": true
   },
   "outputs": [
    {
     "name": "stdout",
     "output_type": "stream",
     "text": [
      "a8 is classified as  a\n",
      "a9 is classified as  a\n",
      "b8 is classified as  b\n",
      "b9 is classified as  b\n",
      "c8 is classified as  c\n",
      "c9 is classified as  c\n",
      "d8 is classified as  d\n",
      "d9 is classified as  d\n",
      "e8 is classified as  e\n",
      "e9 is classified as  e\n",
      "f8 is classified as  f\n",
      "f9 is classified as  f\n",
      "g8 is classified as  g\n",
      "g9 is classified as  g\n",
      "h8 is classified as  h\n",
      "h9 is classified as  h\n",
      "i8 is classified as  i\n",
      "i9 is classified as  k\n",
      "j8 is classified as  j\n",
      "j9 is classified as  j\n",
      "k8 is classified as  k\n",
      "k9 is classified as  k\n",
      "l8 is classified as  l\n",
      "l9 is classified as  q\n",
      "m8 is classified as  m\n",
      "m9 is classified as  m\n",
      "n8 is classified as  n\n",
      "n9 is classified as  n\n",
      "o8 is classified as  o\n",
      "o9 is classified as  o\n",
      "p8 is classified as  p\n",
      "p9 is classified as  p\n",
      "q8 is classified as  q\n",
      "q9 is classified as  q\n",
      "r8 is classified as  r\n",
      "r9 is classified as  r\n",
      "s8 is classified as  s\n",
      "s9 is classified as  s\n",
      "t8 is classified as  t\n",
      "t9 is classified as  t\n",
      "u8 is classified as  u\n",
      "u9 is classified as  u\n",
      "v8 is classified as  v\n",
      "v9 is classified as  v\n",
      "w8 is classified as  w\n",
      "w9 is classified as  w\n",
      "x8 is classified as  x\n",
      "x9 is classified as  x\n",
      "y8 is classified as  y\n",
      "y9 is classified as  y\n",
      "z8 is classified as  z\n",
      "z9 is classified as  z\n"
     ]
    },
    {
     "data": {
      "image/png": "[encoded data removed]",
      "text/plain": [
       "<matplotlib.figure.Figure at 0x13eb17cbfd0>"
      ]
     },
     "metadata": {},
     "output_type": "display_data"
    }
   ],
   "source": [
    "charcters=[]\n",
    "dict={}\n",
    "for char in str.ascii_lowercase:\n",
    "    charcters.append(char)\n",
    "    dict['%s'%char]=0\n",
    "for i in range (0,len(testFiles)):\n",
    "    arr=[]\n",
    "    for alpha in range (0,26):\n",
    "        img=misc.imread(Dist+\"test\\\\\"+ testFiles[i])\n",
    "        img=img.reshape(144,)\n",
    "        img=np.append(img,1)\n",
    "        a=np.dot(np.transpose(classifiers[alpha]),(img))\n",
    "        arr.append(a)\n",
    "    max_value = max(arr) #max value of the array\n",
    "    max_index = arr.index(max_value) #index of the max value, index of the weight vector with the heighst value result\n",
    "    print (testFiles[i][2:4],\"is classified as \",charcters[max_index])\n",
    "    if (charcters[max_index]==testFiles[i][2]):\n",
    "        dict['%s'%charcters[max_index]] = dict['%s'%charcters[max_index]]+1\n",
    "correct=[]\n",
    "for i in range(0,26):\n",
    "    correct.append(dict['%s'%charcters[i]])\n",
    "        \n",
    "plt.bar(range(len(dict)), dict.values(), align='center')\n",
    "plt.xticks(range(len(dict)), dict.keys())\n",
    "plt.savefig(Dist+\"accuracy.jpg\")\n",
    "plt.show()\n",
    "\n"
   ]
  },
  {
   "cell_type": "code",
   "execution_count": null,
   "metadata": {
    "collapsed": true
   },
   "outputs": [],
   "source": []
  }
 ],
 "metadata": {
  "kernelspec": {
   "display_name": "Python 3",
   "language": "python",
   "name": "python3"
  },
  "language_info": {
   "codemirror_mode": {
    "name": "ipython",
    "version": 3
   },
   "file_extension": ".py",
   "mimetype": "text/x-python",
   "name": "python",
   "nbconvert_exporter": "python",
   "pygments_lexer": "ipython3",
   "version": "3.6.2"
  }
 },
 "nbformat": 4,
 "nbformat_minor": 2
}
